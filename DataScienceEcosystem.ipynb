{
 "cells": [
  {
   "cell_type": "markdown",
   "id": "68483e72-1212-4c70-a5fc-a820785a9995",
   "metadata": {},
   "source": [
    "# H1: Data Science Tools and Ecosystem"
   ]
  },
  {
   "cell_type": "markdown",
   "id": "c6b81be5-1107-4985-9a42-e8d6f3439e87",
   "metadata": {},
   "source": [
    "## In this notebook, Data Science Tools and Ecosystem are summarized."
   ]
  },
  {
   "cell_type": "markdown",
   "id": "f043c7c7-d860-49c3-abcc-c4ab7f3e9076",
   "metadata": {},
   "source": [
    "### **Objective**\n",
    "\n",
    "- Explore popluar languages for Data Science.\n",
    "- Understand key concepts of machine learning and its applications.\n",
    "- Learn how to manipulate and analyze data using pandas."
   ]
  },
  {
   "cell_type": "markdown",
   "id": "89a47815-29db-470b-aec5-d0247de063e1",
   "metadata": {},
   "source": [
    "# Some of the popular languages that Data Scientists use are:\n",
    "1. Python\n",
    "2. SQL\n",
    "3. Julia"
   ]
  },
  {
   "cell_type": "markdown",
   "id": "5ac2333b-33a8-47d7-94fa-67c39194d415",
   "metadata": {},
   "source": [
    "|Data Science Tools|\n",
    "|------------------|\n",
    "|NumPy|\n",
    "|Panda|\n",
    "|TensorFlow|"
   ]
  },
  {
   "cell_type": "markdown",
   "id": "90686574-b9a5-4df7-b457-f12603f6ccc1",
   "metadata": {},
   "source": [
    "### Below are a few examples of evaluating arithetic expressions in Python"
   ]
  },
  {
   "cell_type": "markdown",
   "id": "056fca1d-97d3-468f-94dd-1cec810a964a",
   "metadata": {},
   "source": [
    "### This a simple arithmetic expression to muliply then add integers"
   ]
  },
  {
   "cell_type": "code",
   "execution_count": 3,
   "id": "4494e532-8800-481b-a7f6-748de1e40c4b",
   "metadata": {},
   "outputs": [
    {
     "data": {
      "text/plain": [
       "17"
      ]
     },
     "execution_count": 3,
     "metadata": {},
     "output_type": "execute_result"
    }
   ],
   "source": [
    "(3*4)+5"
   ]
  },
  {
   "cell_type": "markdown",
   "id": "cee1c4b5-93ce-4ccc-bed6-a14e7feb409f",
   "metadata": {},
   "source": [
    "### This will convert 200 minutes to hours by diving by 60"
   ]
  },
  {
   "cell_type": "code",
   "execution_count": 4,
   "id": "8f62147e-0bc2-4d22-aed3-b8f9079bd86e",
   "metadata": {},
   "outputs": [
    {
     "data": {
      "text/plain": [
       "3.3333333333333335"
      ]
     },
     "execution_count": 4,
     "metadata": {},
     "output_type": "execute_result"
    }
   ],
   "source": [
    "minutes = 200 \n",
    "hours = 60\n",
    "minutes/hours"
   ]
  },
  {
   "cell_type": "markdown",
   "id": "1df41d75-9db3-48d4-97df-5eeb30ca9d79",
   "metadata": {},
   "source": [
    "## Author\n",
    "\n",
    "Edrienne Dorsey"
   ]
  },
  {
   "cell_type": "code",
   "execution_count": null,
   "id": "0b21cb1d-7e22-4c34-a728-1a27afa83748",
   "metadata": {},
   "outputs": [],
   "source": []
  }
 ],
 "metadata": {
  "kernelspec": {
   "display_name": "Python [conda env:base] *",
   "language": "python",
   "name": "conda-base-py"
  },
  "language_info": {
   "codemirror_mode": {
    "name": "ipython",
    "version": 3
   },
   "file_extension": ".py",
   "mimetype": "text/x-python",
   "name": "python",
   "nbconvert_exporter": "python",
   "pygments_lexer": "ipython3",
   "version": "3.12.7"
  }
 },
 "nbformat": 4,
 "nbformat_minor": 5
}
